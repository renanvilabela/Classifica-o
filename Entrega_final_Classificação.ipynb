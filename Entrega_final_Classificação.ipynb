{
  "nbformat": 4,
  "nbformat_minor": 0,
  "metadata": {
    "colab": {
      "provenance": [],
      "authorship_tag": "ABX9TyNudRw2d+dup2KD0javrnEL",
      "include_colab_link": true
    },
    "kernelspec": {
      "name": "python3",
      "display_name": "Python 3"
    },
    "language_info": {
      "name": "python"
    }
  },
  "cells": [
    {
      "cell_type": "markdown",
      "metadata": {
        "id": "view-in-github",
        "colab_type": "text"
      },
      "source": [
        "<a href=\"https://colab.research.google.com/github/renanvilabela/Classifica-o/blob/main/Entrega_final_Classifica%C3%A7%C3%A3o.ipynb\" target=\"_parent\"><img src=\"https://colab.research.google.com/assets/colab-badge.svg\" alt=\"Open In Colab\"/></a>"
      ]
    },
    {
      "cell_type": "code",
      "execution_count": 1,
      "metadata": {
        "id": "1TOsPQOL86qN",
        "colab": {
          "base_uri": "https://localhost:8080/"
        },
        "outputId": "cd6dc6a8-93ad-4780-8a92-994099758bf2"
      },
      "outputs": [
        {
          "output_type": "stream",
          "name": "stdout",
          "text": [
            "   gender   age  hypertension  heart_disease smoking_history    bmi  \\\n",
            "0  Female  80.0             0              1           never  25.19   \n",
            "1  Female  54.0             0              0         No Info  27.32   \n",
            "2    Male  28.0             0              0           never  27.32   \n",
            "3  Female  36.0             0              0         current  23.45   \n",
            "4    Male  76.0             1              1         current  20.14   \n",
            "\n",
            "   HbA1c_level  blood_glucose_level  diabetes  \n",
            "0          6.6                  140         0  \n",
            "1          6.6                   80         0  \n",
            "2          5.7                  158         0  \n",
            "3          5.0                  155         0  \n",
            "4          4.8                  155         0  \n"
          ]
        }
      ],
      "source": [
        "import pandas as pd\n",
        "\n",
        "df = pd.read_csv(\"diabetes_prediction_dataset.csv\")\n",
        "\n",
        "print(df.head())"
      ]
    },
    {
      "cell_type": "code",
      "source": [
        "# Descrição das variáveis\n",
        "descricao_variaveis = {\n",
        "    'gender': 'Gênero da pessoa (masculino, feminino ou outro)',\n",
        "    'age': 'Idade da pessoa',\n",
        "    'hypertension': 'Indicação de se a pessoa tem hipertensão (0: Não, 1: Sim)',\n",
        "    'heart_disease': 'Indicação de se a pessoa tem doença cardíaca (0: Não, 1: Sim)',\n",
        "    'smoking_history': 'Histórico de tabagismo da pessoa (ex-fumante, fumante ou nunca fumou)',\n",
        "    'bmi': 'Índice de Massa Corporal (IMC) da pessoa',\n",
        "    'HbA1c_level': 'Nível de HbA1c no sangue da pessoa',\n",
        "    'blood_glucose_level': 'Nível de glicose no sangue da pessoa',\n",
        "    'diabetes': 'Indicação de se a pessoa tem diabetes (0: Não, 1: Sim)'\n",
        "}\n",
        "\n",
        "print(\"Descrição das variáveis presentes na base de dados:\")\n",
        "for variavel, descricao in descricao_variaveis.items():\n",
        "    print(variavel + \": \" + descricao)"
      ],
      "metadata": {
        "id": "d74m0b0DgECE",
        "outputId": "784caad7-9595-4ef4-c921-1008b695939b",
        "colab": {
          "base_uri": "https://localhost:8080/"
        }
      },
      "execution_count": 2,
      "outputs": [
        {
          "output_type": "stream",
          "name": "stdout",
          "text": [
            "Descrição das variáveis presentes na base de dados:\n",
            "gender: Gênero da pessoa (masculino, feminino ou outro)\n",
            "age: Idade da pessoa\n",
            "hypertension: Indicação de se a pessoa tem hipertensão (0: Não, 1: Sim)\n",
            "heart_disease: Indicação de se a pessoa tem doença cardíaca (0: Não, 1: Sim)\n",
            "smoking_history: Histórico de tabagismo da pessoa (ex-fumante, fumante ou nunca fumou)\n",
            "bmi: Índice de Massa Corporal (IMC) da pessoa\n",
            "HbA1c_level: Nível de HbA1c no sangue da pessoa\n",
            "blood_glucose_level: Nível de glicose no sangue da pessoa\n",
            "diabetes: Indicação de se a pessoa tem diabetes (0: Não, 1: Sim)\n"
          ]
        }
      ]
    },
    {
      "cell_type": "code",
      "source": [
        "# Número de observações e variáveis\n",
        "num_observacoes = df.shape[0]\n",
        "num_variaveis = df.shape[1]\n",
        "\n",
        "print(\"Número de observações:\", num_observacoes)\n",
        "print(\"Número de variáveis:\", num_variaveis)\n",
        "\n",
        "#verificando o número de linhas e colunas\n",
        "print(\"Número de linhas e colunas:\", df.shape)\n",
        "print()\n",
        "\n",
        "#verificando os tipos de dados de cada coluna\n",
        "print(\"Tipos de dados das colunas:\")\n",
        "print(df.dtypes)\n",
        "print()\n",
        "\n",
        "#obtendo estatísicas descritivas para cada coluna numérica\n",
        "print(\"Estatísticas descritivas para colunas numéricas:\")\n",
        "print(df.describe())\n",
        "print()\n",
        "\n",
        "#verificando se há valores nulos\n",
        "print(\"Valores nulos por coluna:\")\n",
        "print(df.isnull().sum())"
      ],
      "metadata": {
        "colab": {
          "base_uri": "https://localhost:8080/"
        },
        "id": "X6TfS13oZlve",
        "outputId": "a2d2bdff-0115-4487-ab7e-32a52da7e840"
      },
      "execution_count": 3,
      "outputs": [
        {
          "output_type": "stream",
          "name": "stdout",
          "text": [
            "Número de observações: 27528\n",
            "Número de variáveis: 9\n",
            "Número de linhas e colunas: (27528, 9)\n",
            "\n",
            "Tipos de dados das colunas:\n",
            "gender                  object\n",
            "age                    float64\n",
            "hypertension             int64\n",
            "heart_disease            int64\n",
            "smoking_history         object\n",
            "bmi                    float64\n",
            "HbA1c_level            float64\n",
            "blood_glucose_level      int64\n",
            "diabetes                 int64\n",
            "dtype: object\n",
            "\n",
            "Estatísticas descritivas para colunas numéricas:\n",
            "                age  hypertension  heart_disease           bmi   HbA1c_level  \\\n",
            "count  27528.000000  27528.000000   27528.000000  27528.000000  27528.000000   \n",
            "mean      42.005618      0.077194       0.038797     27.369845      5.524415   \n",
            "std       22.498018      0.266904       0.193114      6.682188      1.078814   \n",
            "min        0.080000      0.000000       0.000000     10.010000      3.500000   \n",
            "25%       24.000000      0.000000       0.000000     23.710000      4.800000   \n",
            "50%       43.000000      0.000000       0.000000     27.320000      5.800000   \n",
            "75%       60.000000      0.000000       0.000000     29.610000      6.200000   \n",
            "max       80.000000      1.000000       1.000000     88.720000      9.000000   \n",
            "\n",
            "       blood_glucose_level      diabetes  \n",
            "count         27528.000000  27528.000000  \n",
            "mean            138.018817      0.085731  \n",
            "std              40.993501      0.279971  \n",
            "min              80.000000      0.000000  \n",
            "25%             100.000000      0.000000  \n",
            "50%             140.000000      0.000000  \n",
            "75%             159.000000      0.000000  \n",
            "max             300.000000      1.000000  \n",
            "\n",
            "Valores nulos por coluna:\n",
            "gender                 0\n",
            "age                    0\n",
            "hypertension           0\n",
            "heart_disease          0\n",
            "smoking_history        0\n",
            "bmi                    0\n",
            "HbA1c_level            0\n",
            "blood_glucose_level    0\n",
            "diabetes               0\n",
            "dtype: int64\n"
          ]
        }
      ]
    },
    {
      "cell_type": "code",
      "source": [
        "# Verificando a distribuição das classes na variável alvo\n",
        "contagem_classes = df['diabetes'].value_counts()\n",
        "print(\"Distribuição das classes na variável alvo:\")\n",
        "print(contagem_classes)"
      ],
      "metadata": {
        "id": "XNW0dbIcgqxb",
        "outputId": "d48264c3-db8e-44f3-f55c-26c27778b2f1",
        "colab": {
          "base_uri": "https://localhost:8080/"
        }
      },
      "execution_count": 4,
      "outputs": [
        {
          "output_type": "stream",
          "name": "stdout",
          "text": [
            "Distribuição das classes na variável alvo:\n",
            "diabetes\n",
            "0    25168\n",
            "1     2360\n",
            "Name: count, dtype: int64\n"
          ]
        }
      ]
    },
    {
      "cell_type": "code",
      "source": [
        "import matplotlib.pyplot as plt\n",
        "\n",
        "# Visualizando o desbalanceamento das classes\n",
        "plt.figure(figsize=(8, 6))\n",
        "contagem_classes.plot(kind='bar', color=['skyblue', 'salmon'])\n",
        "plt.title(\"Distribuição das Classes na Variável Alvo\")\n",
        "plt.xlabel(\"Classe\")\n",
        "plt.ylabel(\"Número de Observações\")\n",
        "plt.xticks([0, 1], ['Não Diabético', 'Diabético'], rotation=0)\n",
        "plt.show()"
      ],
      "metadata": {
        "id": "oMy143V7gsW7",
        "outputId": "3fb0c13e-d276-4a30-c977-6e6fa9ed5821",
        "colab": {
          "base_uri": "https://localhost:8080/",
          "height": 565
        }
      },
      "execution_count": 5,
      "outputs": [
        {
          "output_type": "display_data",
          "data": {
            "text/plain": [
              "<Figure size 800x600 with 1 Axes>"
            ],
            "image/png": "[encoded data removed]"
          },
          "metadata": {}
        }
      ]
    },
    {
      "cell_type": "code",
      "source": [
        "#importando biblioteca necessária\n",
        "from sklearn.preprocessing import OneHotEncoder\n",
        "\n",
        "#criando uma cópia do DataFrame\n",
        "df_preprocessado = df.copy()\n",
        "\n",
        "#convertendo variáveis categóricas em variáveis dummy usando one-hot encoding\n",
        "df_preprocessado = pd.get_dummies(df_preprocessado, columns=['gender','smoking_history'])\n",
        "\n",
        "#exibindo as primeiras linhas do DataFrame após a conversão\n",
        "print(df_preprocessado.head())"
      ],
      "metadata": {
        "colab": {
          "base_uri": "https://localhost:8080/"
        },
        "id": "w_8djwa5aA-v",
        "outputId": "a204f866-2717-4715-d857-272f70ab3efa"
      },
      "execution_count": 6,
      "outputs": [
        {
          "output_type": "stream",
          "name": "stdout",
          "text": [
            "    age  hypertension  heart_disease    bmi  HbA1c_level  blood_glucose_level  \\\n",
            "0  80.0             0              1  25.19          6.6                  140   \n",
            "1  54.0             0              0  27.32          6.6                   80   \n",
            "2  28.0             0              0  27.32          5.7                  158   \n",
            "3  36.0             0              0  23.45          5.0                  155   \n",
            "4  76.0             1              1  20.14          4.8                  155   \n",
            "\n",
            "   diabetes  gender_Female  gender_Male  gender_Other  \\\n",
            "0         0           True        False         False   \n",
            "1         0           True        False         False   \n",
            "2         0          False         True         False   \n",
            "3         0           True        False         False   \n",
            "4         0          False         True         False   \n",
            "\n",
            "   smoking_history_No Info  smoking_history_current  smoking_history_ever  \\\n",
            "0                    False                    False                 False   \n",
            "1                     True                    False                 False   \n",
            "2                    False                    False                 False   \n",
            "3                    False                     True                 False   \n",
            "4                    False                     True                 False   \n",
            "\n",
            "   smoking_history_former  smoking_history_never  smoking_history_not current  \n",
            "0                   False                   True                        False  \n",
            "1                   False                  False                        False  \n",
            "2                   False                   True                        False  \n",
            "3                   False                  False                        False  \n",
            "4                   False                  False                        False  \n"
          ]
        }
      ]
    },
    {
      "cell_type": "code",
      "source": [
        "# Preenchendo valores ausentes com a média para variáveis numéricas\n",
        "df_preprocessado['age'].fillna(df_preprocessado['age'].mean(), inplace=True)\n",
        "df_preprocessado['bmi'].fillna(df_preprocessado['bmi'].mean(), inplace=True)\n",
        "df_preprocessado['HbA1c_level'].fillna(df_preprocessado['HbA1c_level'].mean(), inplace=True)\n",
        "\n",
        "# Exibindo se ainda há valores ausentes\n",
        "print(\"Valores nulos por coluna após o pré-processamento:\")\n",
        "print(df_preprocessado.isnull().sum())"
      ],
      "metadata": {
        "colab": {
          "base_uri": "https://localhost:8080/"
        },
        "id": "UNOHMSBwb-Rv",
        "outputId": "90da7754-a628-4baf-f51f-1aedd0c2b57a"
      },
      "execution_count": 7,
      "outputs": [
        {
          "output_type": "stream",
          "name": "stdout",
          "text": [
            "Valores nulos por coluna após o pré-processamento:\n",
            "age                            0\n",
            "hypertension                   0\n",
            "heart_disease                  0\n",
            "bmi                            0\n",
            "HbA1c_level                    0\n",
            "blood_glucose_level            0\n",
            "diabetes                       0\n",
            "gender_Female                  0\n",
            "gender_Male                    0\n",
            "gender_Other                   0\n",
            "smoking_history_No Info        0\n",
            "smoking_history_current        0\n",
            "smoking_history_ever           0\n",
            "smoking_history_former         0\n",
            "smoking_history_never          0\n",
            "smoking_history_not current    0\n",
            "dtype: int64\n"
          ]
        }
      ]
    },
    {
      "cell_type": "code",
      "source": [
        "# Importando biblioteca necessária\n",
        "from sklearn.preprocessing import StandardScaler\n",
        "\n",
        "# Padronizando as variáveis numéricas\n",
        "scaler = StandardScaler()\n",
        "df_preprocessado[['age', 'bmi', 'HbA1c_level', 'blood_glucose_level']] = scaler.fit_transform(df_preprocessado[['age', 'bmi', 'HbA1c_level', 'blood_glucose_level']])\n",
        "\n",
        "# Exibindo as primeiras linhas do DataFrame após a padronização\n",
        "print(df_preprocessado.head())"
      ],
      "metadata": {
        "colab": {
          "base_uri": "https://localhost:8080/"
        },
        "id": "ZBNWZNdecyyX",
        "outputId": "7b40c199-1851-4851-ee0c-aedfe326e6ab"
      },
      "execution_count": 8,
      "outputs": [
        {
          "output_type": "stream",
          "name": "stdout",
          "text": [
            "        age  hypertension  heart_disease       bmi  HbA1c_level  \\\n",
            "0  1.688819             0              1 -0.326223     0.997025   \n",
            "1  0.533140             0              0 -0.007459     0.997025   \n",
            "2 -0.622538             0              0 -0.007459     0.162760   \n",
            "3 -0.266945             0              0 -0.586622    -0.486112   \n",
            "4  1.511022             1              1 -1.081977    -0.671504   \n",
            "\n",
            "   blood_glucose_level  diabetes  gender_Female  gender_Male  gender_Other  \\\n",
            "0             0.048330         0           True        False         False   \n",
            "1            -1.415343         0           True        False         False   \n",
            "2             0.487432         0          False         True         False   \n",
            "3             0.414248         0           True        False         False   \n",
            "4             0.414248         0          False         True         False   \n",
            "\n",
            "   smoking_history_No Info  smoking_history_current  smoking_history_ever  \\\n",
            "0                    False                    False                 False   \n",
            "1                     True                    False                 False   \n",
            "2                    False                    False                 False   \n",
            "3                    False                     True                 False   \n",
            "4                    False                     True                 False   \n",
            "\n",
            "   smoking_history_former  smoking_history_never  smoking_history_not current  \n",
            "0                   False                   True                        False  \n",
            "1                   False                  False                        False  \n",
            "2                   False                   True                        False  \n",
            "3                   False                  False                        False  \n",
            "4                   False                  False                        False  \n"
          ]
        }
      ]
    },
    {
      "cell_type": "code",
      "source": [
        "from sklearn.model_selection import train_test_split\n",
        "\n",
        "# Separando as features (variáveis independentes) e o target (variável dependente)\n",
        "X = df_preprocessado.drop('diabetes', axis=1)\n",
        "y = df_preprocessado['diabetes']\n",
        "\n",
        "# Dividindo os dados em conjunto de treinamento e teste (por exemplo, 80% treinamento, 20% teste)\n",
        "X_train, X_test, y_train, y_test = train_test_split(X, y, test_size=0.2, random_state=42)"
      ],
      "metadata": {
        "id": "juzoOabKc4YS"
      },
      "execution_count": 9,
      "outputs": []
    },
    {
      "cell_type": "code",
      "source": [
        "from sklearn.linear_model import LogisticRegression\n",
        "from sklearn.tree import DecisionTreeClassifier\n",
        "from sklearn.ensemble import RandomForestClassifier\n",
        "\n",
        "# Exemplo de treinamento de um modelo de regressão logística\n",
        "model = LogisticRegression()\n",
        "model.fit(X_train, y_train)"
      ],
      "metadata": {
        "colab": {
          "base_uri": "https://localhost:8080/",
          "height": 75
        },
        "id": "DF8aOfnkc_bi",
        "outputId": "11eb2d8e-a4d6-4dfc-effe-68ad8431e690"
      },
      "execution_count": 10,
      "outputs": [
        {
          "output_type": "execute_result",
          "data": {
            "text/plain": [
              "LogisticRegression()"
            ],
            "text/html": [
              "<style>#sk-container-id-1 {color: black;background-color: white;}#sk-container-id-1 pre{padding: 0;}#sk-container-id-1 div.sk-toggleable {background-color: white;}#sk-container-id-1 label.sk-toggleable__label {cursor: pointer;display: block;width: 100%;margin-bottom: 0;padding: 0.3em;box-sizing: border-box;text-align: center;}#sk-container-id-1 label.sk-toggleable__label-arrow:before {content: \"▸\";float: left;margin-right: 0.25em;color: #696969;}#sk-container-id-1 label.sk-toggleable__label-arrow:hover:before {color: black;}#sk-container-id-1 div.sk-estimator:hover label.sk-toggleable__label-arrow:before {color: black;}#sk-container-id-1 div.sk-toggleable__content {max-height: 0;max-width: 0;overflow: hidden;text-align: left;background-color: #f0f8ff;}#sk-container-id-1 div.sk-toggleable__content pre {margin: 0.2em;color: black;border-radius: 0.25em;background-color: #f0f8ff;}#sk-container-id-1 input.sk-toggleable__control:checked~div.sk-toggleable__content {max-height: 200px;max-width: 100%;overflow: auto;}#sk-container-id-1 input.sk-toggleable__control:checked~label.sk-toggleable__label-arrow:before {content: \"▾\";}#sk-container-id-1 div.sk-estimator input.sk-toggleable__control:checked~label.sk-toggleable__label {background-color: #d4ebff;}#sk-container-id-1 div.sk-label input.sk-toggleable__control:checked~label.sk-toggleable__label {background-color: #d4ebff;}#sk-container-id-1 input.sk-hidden--visually {border: 0;clip: rect(1px 1px 1px 1px);clip: rect(1px, 1px, 1px, 1px);height: 1px;margin: -1px;overflow: hidden;padding: 0;position: absolute;width: 1px;}#sk-container-id-1 div.sk-estimator {font-family: monospace;background-color: #f0f8ff;border: 1px dotted black;border-radius: 0.25em;box-sizing: border-box;margin-bottom: 0.5em;}#sk-container-id-1 div.sk-estimator:hover {background-color: #d4ebff;}#sk-container-id-1 div.sk-parallel-item::after {content: \"\";width: 100%;border-bottom: 1px solid gray;flex-grow: 1;}#sk-container-id-1 div.sk-label:hover label.sk-toggleable__label {background-color: #d4ebff;}#sk-container-id-1 div.sk-serial::before {content: \"\";position: absolute;border-left: 1px solid gray;box-sizing: border-box;top: 0;bottom: 0;left: 50%;z-index: 0;}#sk-container-id-1 div.sk-serial {display: flex;flex-direction: column;align-items: center;background-color: white;padding-right: 0.2em;padding-left: 0.2em;position: relative;}#sk-container-id-1 div.sk-item {position: relative;z-index: 1;}#sk-container-id-1 div.sk-parallel {display: flex;align-items: stretch;justify-content: center;background-color: white;position: relative;}#sk-container-id-1 div.sk-item::before, #sk-container-id-1 div.sk-parallel-item::before {content: \"\";position: absolute;border-left: 1px solid gray;box-sizing: border-box;top: 0;bottom: 0;left: 50%;z-index: -1;}#sk-container-id-1 div.sk-parallel-item {display: flex;flex-direction: column;z-index: 1;position: relative;background-color: white;}#sk-container-id-1 div.sk-parallel-item:first-child::after {align-self: flex-end;width: 50%;}#sk-container-id-1 div.sk-parallel-item:last-child::after {align-self: flex-start;width: 50%;}#sk-container-id-1 div.sk-parallel-item:only-child::after {width: 0;}#sk-container-id-1 div.sk-dashed-wrapped {border: 1px dashed gray;margin: 0 0.4em 0.5em 0.4em;box-sizing: border-box;padding-bottom: 0.4em;background-color: white;}#sk-container-id-1 div.sk-label label {font-family: monospace;font-weight: bold;display: inline-block;line-height: 1.2em;}#sk-container-id-1 div.sk-label-container {text-align: center;}#sk-container-id-1 div.sk-container {/* jupyter's `normalize.less` sets `[hidden] { display: none; }` but bootstrap.min.css set `[hidden] { display: none !important; }` so we also need the `!important` here to be able to override the default hidden behavior on the sphinx rendered scikit-learn.org. See: https://github.com/scikit-learn/scikit-learn/issues/21755 */display: inline-block !important;position: relative;}#sk-container-id-1 div.sk-text-repr-fallback {display: none;}</style><div id=\"sk-container-id-1\" class=\"sk-top-container\"><div class=\"sk-text-repr-fallback\"><pre>LogisticRegression()</pre><b>In a Jupyter environment, please rerun this cell to show the HTML representation or trust the notebook. <br />On GitHub, the HTML representation is unable to render, please try loading this page with nbviewer.org.</b></div><div class=\"sk-container\" hidden><div class=\"sk-item\"><div class=\"sk-estimator sk-toggleable\"><input class=\"sk-toggleable__control sk-hidden--visually\" id=\"sk-estimator-id-1\" type=\"checkbox\" checked><label for=\"sk-estimator-id-1\" class=\"sk-toggleable__label sk-toggleable__label-arrow\">LogisticRegression</label><div class=\"sk-toggleable__content\"><pre>LogisticRegression()</pre></div></div></div></div></div>"
            ]
          },
          "metadata": {},
          "execution_count": 10
        }
      ]
    },
    {
      "cell_type": "code",
      "source": [
        "from sklearn.metrics import accuracy_score, classification_report\n",
        "\n",
        "# Exemplo de avaliação do modelo de regressão logística\n",
        "y_pred = model.predict(X_test)\n",
        "accuracy = accuracy_score(y_test, y_pred)\n",
        "print(\"Acurácia do modelo:\", accuracy)\n",
        "\n",
        "# Outras métricas de avaliação\n",
        "print(classification_report(y_test, y_pred))"
      ],
      "metadata": {
        "colab": {
          "base_uri": "https://localhost:8080/"
        },
        "id": "5lpsUbpAdJJ6",
        "outputId": "cba903ad-e016-4478-d38f-71297a9fc5d9"
      },
      "execution_count": 11,
      "outputs": [
        {
          "output_type": "stream",
          "name": "stdout",
          "text": [
            "Acurácia do modelo: 0.964220849981838\n",
            "              precision    recall  f1-score   support\n",
            "\n",
            "           0       0.97      0.99      0.98      5050\n",
            "           1       0.89      0.64      0.75       456\n",
            "\n",
            "    accuracy                           0.96      5506\n",
            "   macro avg       0.93      0.82      0.86      5506\n",
            "weighted avg       0.96      0.96      0.96      5506\n",
            "\n"
          ]
        }
      ]
    },
    {
      "cell_type": "code",
      "source": [
        "from sklearn.model_selection import cross_val_score\n",
        "\n",
        "# Exemplo de validação cruzada com 5 folds\n",
        "scores = cross_val_score(model, X, y, cv=5)\n",
        "print(\"Acurácia média da validação cruzada:\", scores.mean())"
      ],
      "metadata": {
        "colab": {
          "base_uri": "https://localhost:8080/"
        },
        "id": "hRxMokZfeJgS",
        "outputId": "46b9d3a4-d538-4c3d-ba80-a78a42352eb7"
      },
      "execution_count": 12,
      "outputs": [
        {
          "output_type": "stream",
          "name": "stdout",
          "text": [
            "Acurácia média da validação cruzada: 0.9616026971484827\n"
          ]
        }
      ]
    },
    {
      "cell_type": "code",
      "source": [
        "from sklearn.model_selection import GridSearchCV\n",
        "\n",
        "# Exemplo de pesquisa em grade para ajustar hiperparâmetros\n",
        "param_grid = {'C': [0.1, 1, 10, 100]}\n",
        "grid_search = GridSearchCV(model, param_grid, cv=5)\n",
        "grid_search.fit(X_train, y_train)\n",
        "\n",
        "# Melhores hiperparâmetros encontrados\n",
        "print(\"Melhores hiperparâmetros:\", grid_search.best_params_)"
      ],
      "metadata": {
        "colab": {
          "base_uri": "https://localhost:8080/"
        },
        "id": "PZ21aRcpd4OS",
        "outputId": "535f9b84-c418-45b2-b372-ca9a3c5f7212"
      },
      "execution_count": 13,
      "outputs": [
        {
          "output_type": "stream",
          "name": "stdout",
          "text": [
            "Melhores hiperparâmetros: {'C': 1}\n"
          ]
        }
      ]
    },
    {
      "cell_type": "code",
      "source": [
        "from sklearn.model_selection import cross_val_score\n",
        "from sklearn.metrics import accuracy_score, precision_score, recall_score, f1_score\n",
        "from imblearn.over_sampling import RandomOverSampler\n",
        "from imblearn.under_sampling import RandomUnderSampler\n",
        "import numpy as np\n",
        "\n",
        "# Definição dos modelos\n",
        "modelos = {\n",
        "    'Regressão Logística': LogisticRegression(),\n",
        "    'Árvore de Decisão': DecisionTreeClassifier(),\n",
        "    # Adicione outros modelos conforme necessário\n",
        "}\n",
        "\n",
        "# Definição da técnica de balanceamento de classes\n",
        "balanceamento = 'oversampling'  # ou 'undersampling'\n",
        "\n",
        "# Listas para armazenar os resultados das métricas de desempenho\n",
        "acuracia_resultados = []\n",
        "precisao_resultados = []\n",
        "recall_resultados = []\n",
        "f1_resultados = []\n",
        "\n",
        "# Loop sobre os modelos\n",
        "for nome_modelo, modelo in modelos.items():\n",
        "    # Aplicação da técnica de balanceamento de classes\n",
        "    if balanceamento == 'oversampling':\n",
        "        sampler = RandomOverSampler()\n",
        "    elif balanceamento == 'undersampling':\n",
        "        sampler = RandomUnderSampler()\n",
        "    X_resampled, y_resampled = sampler.fit_resample(X_train, y_train)\n",
        "\n",
        "    # Treinamento do modelo\n",
        "    modelo.fit(X_resampled, y_resampled)\n",
        "\n",
        "    # Avaliação do modelo\n",
        "    y_pred = modelo.predict(X_test)\n",
        "    acuracia = accuracy_score(y_test, y_pred)\n",
        "    precisao = precision_score(y_test, y_pred)\n",
        "    recall = recall_score(y_test, y_pred)\n",
        "    f1 = f1_score(y_test, y_pred)\n",
        "\n",
        "    # Adicione os resultados às listas correspondentes\n",
        "    acuracia_resultados.append(acuracia)\n",
        "    precisao_resultados.append(precisao)\n",
        "    recall_resultados.append(recall)\n",
        "    f1_resultados.append(f1)\n",
        "\n",
        "    # Impressão dos resultados\n",
        "    print(f\"Modelo: {nome_modelo}\")\n",
        "    print(f\"Acurácia: {acuracia}\")\n",
        "    print(f\"Precisão: {precisao}\")\n",
        "    print(f\"Recall: {recall}\")\n",
        "    print(f\"F1-score: {f1}\")\n",
        "    print(\"----------------------------------------\")\n",
        "\n",
        "# Calcule a média e o desvio padrão do desempenho dos modelos\n",
        "media_acuracia = np.mean(acuracia_resultados)\n",
        "desvio_padrao_acuracia = np.std(acuracia_resultados)\n",
        "\n",
        "media_precisao = np.mean(precisao_resultados)\n",
        "desvio_padrao_precisao = np.std(precisao_resultados)\n",
        "\n",
        "media_recall = np.mean(recall_resultados)\n",
        "desvio_padrao_recall = np.std(recall_resultados)\n",
        "\n",
        "media_f1 = np.mean(f1_resultados)\n",
        "desvio_padrao_f1 = np.std(f1_resultados)\n",
        "\n",
        "# Exiba os resultados\n",
        "print(\"Média e Desvio Padrão do Desempenho dos Modelos:\")\n",
        "print(\"Acurácia:\")\n",
        "print(f\"Média: {media_acuracia}, Desvio Padrão: {desvio_padrao_acuracia}\")\n",
        "print(\"Precisão:\")\n",
        "print(f\"Média: {media_precisao}, Desvio Padrão: {desvio_padrao_precisao}\")\n",
        "print(\"Recall:\")\n",
        "print(f\"Média: {media_recall}, Desvio Padrão: {desvio_padrao_recall}\")\n",
        "print(\"F1-score:\")\n",
        "print(f\"Média: {media_f1}, Desvio Padrão: {desvio_padrao_f1}\")"
      ],
      "metadata": {
        "id": "DawwFoflh-l6",
        "outputId": "31632be9-5de7-4837-852c-c937c9c835aa",
        "colab": {
          "base_uri": "https://localhost:8080/"
        }
      },
      "execution_count": 14,
      "outputs": [
        {
          "output_type": "stream",
          "name": "stdout",
          "text": [
            "Modelo: Regressão Logística\n",
            "Acurácia: 0.8999273519796586\n",
            "Precisão: 0.4485373781148429\n",
            "Recall: 0.9078947368421053\n",
            "F1-score: 0.6004350978970268\n",
            "----------------------------------------\n",
            "Modelo: Árvore de Decisão\n",
            "Acurácia: 0.9564111877951326\n",
            "Precisão: 0.7410714285714286\n",
            "Recall: 0.7280701754385965\n",
            "F1-score: 0.7345132743362833\n",
            "----------------------------------------\n",
            "Média e Desvio Padrão do Desempenho dos Modelos:\n",
            "Acurácia:\n",
            "Média: 0.9281692698873956, Desvio Padrão: 0.028241917907737002\n",
            "Precisão:\n",
            "Média: 0.5948044033431358, Desvio Padrão: 0.14626702522829285\n",
            "Recall:\n",
            "Média: 0.8179824561403509, Desvio Padrão: 0.08991228070175439\n",
            "F1-score:\n",
            "Média: 0.6674741861166551, Desvio Padrão: 0.06703908821962828\n"
          ]
        }
      ]
    },
    {
      "cell_type": "code",
      "source": [
        "import matplotlib.pyplot as plt\n",
        "\n",
        "# Métricas\n",
        "metricas = ['Acurácia', 'Precisão', 'Recall', 'F1-score']\n",
        "\n",
        "# Médias e desvios padrão\n",
        "medias = [0.92265, 0.58534, 0.81089, 0.65886]\n",
        "desvios_padrao = [0.03315, 0.15673, 0.07143, 0.08190]\n",
        "\n",
        "# Criar o gráfico\n",
        "plt.figure(figsize=(10, 6))\n",
        "plt.bar(metricas, medias, yerr=desvios_padrao, color='skyblue', alpha=0.7, capsize=10)\n",
        "plt.title('Desempenho dos Modelos')\n",
        "plt.xlabel('Métricas')\n",
        "plt.ylabel('Valor')\n",
        "plt.ylim(0, 1)  # Definir o limite do eixo y de 0 a 1\n",
        "plt.grid(axis='y', linestyle='--', alpha=0.7)\n",
        "plt.show()"
      ],
      "metadata": {
        "id": "yjjdOgxy103e",
        "outputId": "25debdc8-0bb8-40c4-b53b-c1205c8122fd",
        "colab": {
          "base_uri": "https://localhost:8080/",
          "height": 564
        }
      },
      "execution_count": 15,
      "outputs": [
        {
          "output_type": "display_data",
          "data": {
            "text/plain": [
              "<Figure size 1000x600 with 1 Axes>"
            ],
            "image/png": "[encoded data removed]"
          },
          "metadata": {}
        }
      ]
    }
  ]
}