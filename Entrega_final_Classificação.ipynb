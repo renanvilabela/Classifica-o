{
  "nbformat": 4,
  "nbformat_minor": 0,
  "metadata": {
    "colab": {
      "provenance": [],
      "authorship_tag": "ABX9TyO4UXcrDMy8bNhIrAcD0RUJ",
      "include_colab_link": true
    },
    "kernelspec": {
      "name": "python3",
      "display_name": "Python 3"
    },
    "language_info": {
      "name": "python"
    }
  },
  "cells": [
    {
      "cell_type": "markdown",
      "metadata": {
        "id": "view-in-github",
        "colab_type": "text"
      },
      "source": [
        "<a href=\"https://colab.research.google.com/github/renanvilabela/Classifica-o/blob/main/Entrega_final_Classifica%C3%A7%C3%A3o.ipynb\" target=\"_parent\"><img src=\"https://colab.research.google.com/assets/colab-badge.svg\" alt=\"Open In Colab\"/></a>"
      ]
    },
    {
      "cell_type": "code",
      "execution_count": 2,
      "metadata": {
        "id": "1TOsPQOL86qN",
        "colab": {
          "base_uri": "https://localhost:8080/"
        },
        "outputId": "ff3845dd-b081-4005-9fd1-eb622bf7a0fb"
      },
      "outputs": [
        {
          "output_type": "stream",
          "name": "stdout",
          "text": [
            "   gender   age  hypertension  heart_disease smoking_history    bmi  \\\n",
            "0  Female  80.0             0              1           never  25.19   \n",
            "1  Female  54.0             0              0         No Info  27.32   \n",
            "2    Male  28.0             0              0           never  27.32   \n",
            "3  Female  36.0             0              0         current  23.45   \n",
            "4    Male  76.0             1              1         current  20.14   \n",
            "\n",
            "   HbA1c_level  blood_glucose_level  diabetes  \n",
            "0          6.6                  140         0  \n",
            "1          6.6                   80         0  \n",
            "2          5.7                  158         0  \n",
            "3          5.0                  155         0  \n",
            "4          4.8                  155         0  \n"
          ]
        }
      ],
      "source": [
        "import pandas as pd\n",
        "\n",
        "df = pd.read_csv(\"diabetes_prediction_dataset.csv\")\n",
        "\n",
        "print(df.head())"
      ]
    },
    {
      "cell_type": "code",
      "source": [
        "# Descrição das variáveis\n",
        "descricao_variaveis = {\n",
        "    'gender': 'Gênero da pessoa (masculino, feminino ou outro)',\n",
        "    'age': 'Idade da pessoa',\n",
        "    'hypertension': 'Indicação de se a pessoa tem hipertensão (0: Não, 1: Sim)',\n",
        "    'heart_disease': 'Indicação de se a pessoa tem doença cardíaca (0: Não, 1: Sim)',\n",
        "    'smoking_history': 'Histórico de tabagismo da pessoa (ex-fumante, fumante ou nunca fumou)',\n",
        "    'bmi': 'Índice de Massa Corporal (IMC) da pessoa',\n",
        "    'HbA1c_level': 'Nível de HbA1c no sangue da pessoa',\n",
        "    'blood_glucose_level': 'Nível de glicose no sangue da pessoa',\n",
        "    'diabetes': 'Indicação de se a pessoa tem diabetes (0: Não, 1: Sim)'\n",
        "}\n",
        "\n",
        "print(\"Descrição das variáveis presentes na base de dados:\")\n",
        "for variavel, descricao in descricao_variaveis.items():\n",
        "    print(variavel + \": \" + descricao)"
      ],
      "metadata": {
        "id": "d74m0b0DgECE",
        "outputId": "e2856aaf-038a-4035-d764-389659db995a",
        "colab": {
          "base_uri": "https://localhost:8080/"
        }
      },
      "execution_count": 13,
      "outputs": [
        {
          "output_type": "stream",
          "name": "stdout",
          "text": [
            "Descrição das variáveis presentes na base de dados:\n",
            "gender: Gênero da pessoa (masculino, feminino ou outro)\n",
            "age: Idade da pessoa\n",
            "hypertension: Indicação de se a pessoa tem hipertensão (0: Não, 1: Sim)\n",
            "heart_disease: Indicação de se a pessoa tem doença cardíaca (0: Não, 1: Sim)\n",
            "smoking_history: Histórico de tabagismo da pessoa (ex-fumante, fumante ou nunca fumou)\n",
            "bmi: Índice de Massa Corporal (IMC) da pessoa\n",
            "HbA1c_level: Nível de HbA1c no sangue da pessoa\n",
            "blood_glucose_level: Nível de glicose no sangue da pessoa\n",
            "diabetes: Indicação de se a pessoa tem diabetes (0: Não, 1: Sim)\n"
          ]
        }
      ]
    },
    {
      "cell_type": "code",
      "source": [
        "# Número de observações e variáveis\n",
        "num_observacoes = df.shape[0]\n",
        "num_variaveis = df.shape[1]\n",
        "\n",
        "print(\"Número de observações:\", num_observacoes)\n",
        "print(\"Número de variáveis:\", num_variaveis)\n",
        "\n",
        "#verificando o número de linhas e colunas\n",
        "print(\"Número de linhas e colunas:\", df.shape)\n",
        "print()\n",
        "\n",
        "#verificando os tipos de dados de cada coluna\n",
        "print(\"Tipos de dados das colunas:\")\n",
        "print(df.dtypes)\n",
        "print()\n",
        "\n",
        "#obtendo estatísicas descritivas para cada coluna numérica\n",
        "print(\"Estatísticas descritivas para colunas numéricas:\")\n",
        "print(df.describe())\n",
        "print()\n",
        "\n",
        "#verificando se há valores nulos\n",
        "print(\"Valores nulos por coluna:\")\n",
        "print(df.isnull().sum())"
      ],
      "metadata": {
        "colab": {
          "base_uri": "https://localhost:8080/"
        },
        "id": "X6TfS13oZlve",
        "outputId": "ec4517b9-ef6f-4f5b-a16b-eb648bc9788a"
      },
      "execution_count": 16,
      "outputs": [
        {
          "output_type": "stream",
          "name": "stdout",
          "text": [
            "Número de observações: 100000\n",
            "Número de variáveis: 9\n",
            "Número de linhas e colunas: (100000, 9)\n",
            "\n",
            "Tipos de dados das colunas:\n",
            "gender                  object\n",
            "age                    float64\n",
            "hypertension             int64\n",
            "heart_disease            int64\n",
            "smoking_history         object\n",
            "bmi                    float64\n",
            "HbA1c_level            float64\n",
            "blood_glucose_level      int64\n",
            "diabetes                 int64\n",
            "dtype: object\n",
            "\n",
            "Estatísticas descritivas para colunas numéricas:\n",
            "                 age  hypertension  heart_disease            bmi  \\\n",
            "count  100000.000000  100000.00000  100000.000000  100000.000000   \n",
            "mean       41.885856       0.07485       0.039420      27.320767   \n",
            "std        22.516840       0.26315       0.194593       6.636783   \n",
            "min         0.080000       0.00000       0.000000      10.010000   \n",
            "25%        24.000000       0.00000       0.000000      23.630000   \n",
            "50%        43.000000       0.00000       0.000000      27.320000   \n",
            "75%        60.000000       0.00000       0.000000      29.580000   \n",
            "max        80.000000       1.00000       1.000000      95.690000   \n",
            "\n",
            "         HbA1c_level  blood_glucose_level       diabetes  \n",
            "count  100000.000000        100000.000000  100000.000000  \n",
            "mean        5.527507           138.058060       0.085000  \n",
            "std         1.070672            40.708136       0.278883  \n",
            "min         3.500000            80.000000       0.000000  \n",
            "25%         4.800000           100.000000       0.000000  \n",
            "50%         5.800000           140.000000       0.000000  \n",
            "75%         6.200000           159.000000       0.000000  \n",
            "max         9.000000           300.000000       1.000000  \n",
            "\n",
            "Valores nulos por coluna:\n",
            "gender                 0\n",
            "age                    0\n",
            "hypertension           0\n",
            "heart_disease          0\n",
            "smoking_history        0\n",
            "bmi                    0\n",
            "HbA1c_level            0\n",
            "blood_glucose_level    0\n",
            "diabetes               0\n",
            "dtype: int64\n"
          ]
        }
      ]
    },
    {
      "cell_type": "code",
      "source": [
        "# Verificando a distribuição das classes na variável alvo\n",
        "contagem_classes = df['diabetes'].value_counts()\n",
        "print(\"Distribuição das classes na variável alvo:\")\n",
        "print(contagem_classes)"
      ],
      "metadata": {
        "id": "XNW0dbIcgqxb",
        "outputId": "9bf91bf8-bf16-4b31-8187-fa789301fa75",
        "colab": {
          "base_uri": "https://localhost:8080/"
        }
      },
      "execution_count": 17,
      "outputs": [
        {
          "output_type": "stream",
          "name": "stdout",
          "text": [
            "Distribuição das classes na variável alvo:\n",
            "diabetes\n",
            "0    91500\n",
            "1     8500\n",
            "Name: count, dtype: int64\n"
          ]
        }
      ]
    },
    {
      "cell_type": "code",
      "source": [
        "import matplotlib.pyplot as plt\n",
        "\n",
        "# Visualizando o desbalanceamento das classes\n",
        "plt.figure(figsize=(8, 6))\n",
        "contagem_classes.plot(kind='bar', color=['skyblue', 'salmon'])\n",
        "plt.title(\"Distribuição das Classes na Variável Alvo\")\n",
        "plt.xlabel(\"Classe\")\n",
        "plt.ylabel(\"Número de Observações\")\n",
        "plt.xticks([0, 1], ['Não Diabético', 'Diabético'], rotation=0)\n",
        "plt.show()"
      ],
      "metadata": {
        "id": "oMy143V7gsW7",
        "outputId": "a7ff94b0-588c-4891-a2ed-5724aa31df7d",
        "colab": {
          "base_uri": "https://localhost:8080/",
          "height": 565
        }
      },
      "execution_count": 18,
      "outputs": [
        {
          "output_type": "display_data",
          "data": {
            "text/plain": [
              "<Figure size 800x600 with 1 Axes>"
            ],
            "image/png": "[encoded data removed]"
          },
          "metadata": {}
        }
      ]
    },
    {
      "cell_type": "code",
      "source": [
        "#importando biblioteca necessária\n",
        "from sklearn.preprocessing import OneHotEncoder\n",
        "\n",
        "#criando uma cópia do DataFrame\n",
        "df_preprocessado = df.copy()\n",
        "\n",
        "#convertendo variáveis categóricas em variáveis dummy usando one-hot encoding\n",
        "df_preprocessado = pd.get_dummies(df_preprocessado, columns=['gender','smoking_history'])\n",
        "\n",
        "#exibindo as primeiras linhas do DataFrame após a conversão\n",
        "print(df_preprocessado.head())"
      ],
      "metadata": {
        "colab": {
          "base_uri": "https://localhost:8080/"
        },
        "id": "w_8djwa5aA-v",
        "outputId": "ff6b9dc9-4b1d-4734-9c12-940b95fcd797"
      },
      "execution_count": 15,
      "outputs": [
        {
          "output_type": "stream",
          "name": "stdout",
          "text": [
            "    age  hypertension  heart_disease    bmi  HbA1c_level  blood_glucose_level  \\\n",
            "0  80.0             0              1  25.19          6.6                  140   \n",
            "1  54.0             0              0  27.32          6.6                   80   \n",
            "2  28.0             0              0  27.32          5.7                  158   \n",
            "3  36.0             0              0  23.45          5.0                  155   \n",
            "4  76.0             1              1  20.14          4.8                  155   \n",
            "\n",
            "   diabetes  gender_Female  gender_Male  gender_Other  \\\n",
            "0         0           True        False         False   \n",
            "1         0           True        False         False   \n",
            "2         0          False         True         False   \n",
            "3         0           True        False         False   \n",
            "4         0          False         True         False   \n",
            "\n",
            "   smoking_history_No Info  smoking_history_current  smoking_history_ever  \\\n",
            "0                    False                    False                 False   \n",
            "1                     True                    False                 False   \n",
            "2                    False                    False                 False   \n",
            "3                    False                     True                 False   \n",
            "4                    False                     True                 False   \n",
            "\n",
            "   smoking_history_former  smoking_history_never  smoking_history_not current  \n",
            "0                   False                   True                        False  \n",
            "1                   False                  False                        False  \n",
            "2                   False                   True                        False  \n",
            "3                   False                  False                        False  \n",
            "4                   False                  False                        False  \n"
          ]
        }
      ]
    },
    {
      "cell_type": "code",
      "source": [
        "# Preenchendo valores ausentes com a média para variáveis numéricas\n",
        "df_preprocessado['age'].fillna(df_preprocessado['age'].mean(), inplace=True)\n",
        "df_preprocessado['bmi'].fillna(df_preprocessado['bmi'].mean(), inplace=True)\n",
        "df_preprocessado['HbA1c_level'].fillna(df_preprocessado['HbA1c_level'].mean(), inplace=True)\n",
        "\n",
        "# Exibindo se ainda há valores ausentes\n",
        "print(\"Valores nulos por coluna após o pré-processamento:\")\n",
        "print(df_preprocessado.isnull().sum())"
      ],
      "metadata": {
        "colab": {
          "base_uri": "https://localhost:8080/"
        },
        "id": "UNOHMSBwb-Rv",
        "outputId": "015dd510-b8dd-4390-c8dc-1970670abd8b"
      },
      "execution_count": 5,
      "outputs": [
        {
          "output_type": "stream",
          "name": "stdout",
          "text": [
            "Valores nulos por coluna após o pré-processamento:\n",
            "age                            0\n",
            "hypertension                   0\n",
            "heart_disease                  0\n",
            "bmi                            0\n",
            "HbA1c_level                    0\n",
            "blood_glucose_level            0\n",
            "diabetes                       0\n",
            "gender_Female                  0\n",
            "gender_Male                    0\n",
            "gender_Other                   0\n",
            "smoking_history_No Info        0\n",
            "smoking_history_current        0\n",
            "smoking_history_ever           0\n",
            "smoking_history_former         0\n",
            "smoking_history_never          0\n",
            "smoking_history_not current    0\n",
            "dtype: int64\n"
          ]
        }
      ]
    },
    {
      "cell_type": "code",
      "source": [
        "# Importando biblioteca necessária\n",
        "from sklearn.preprocessing import StandardScaler\n",
        "\n",
        "# Padronizando as variáveis numéricas\n",
        "scaler = StandardScaler()\n",
        "df_preprocessado[['age', 'bmi', 'HbA1c_level', 'blood_glucose_level']] = scaler.fit_transform(df_preprocessado[['age', 'bmi', 'HbA1c_level', 'blood_glucose_level']])\n",
        "\n",
        "# Exibindo as primeiras linhas do DataFrame após a padronização\n",
        "print(df_preprocessado.head())"
      ],
      "metadata": {
        "colab": {
          "base_uri": "https://localhost:8080/"
        },
        "id": "ZBNWZNdecyyX",
        "outputId": "2093c2be-eaa7-484a-f824-0251bf2cb608"
      },
      "execution_count": 6,
      "outputs": [
        {
          "output_type": "stream",
          "name": "stdout",
          "text": [
            "        age  hypertension  heart_disease       bmi  HbA1c_level  \\\n",
            "0  1.692704             0              1 -0.321056     1.001706   \n",
            "1  0.538006             0              0 -0.000116     1.001706   \n",
            "2 -0.616691             0              0 -0.000116     0.161108   \n",
            "3 -0.261399             0              0 -0.583232    -0.492690   \n",
            "4  1.515058             1              1 -1.081970    -0.679490   \n",
            "\n",
            "   blood_glucose_level  diabetes  gender_Female  gender_Male  gender_Other  \\\n",
            "0             0.047704         0           True        False         False   \n",
            "1            -1.426210         0           True        False         False   \n",
            "2             0.489878         0          False         True         False   \n",
            "3             0.416183         0           True        False         False   \n",
            "4             0.416183         0          False         True         False   \n",
            "\n",
            "   smoking_history_No Info  smoking_history_current  smoking_history_ever  \\\n",
            "0                    False                    False                 False   \n",
            "1                     True                    False                 False   \n",
            "2                    False                    False                 False   \n",
            "3                    False                     True                 False   \n",
            "4                    False                     True                 False   \n",
            "\n",
            "   smoking_history_former  smoking_history_never  smoking_history_not current  \n",
            "0                   False                   True                        False  \n",
            "1                   False                  False                        False  \n",
            "2                   False                   True                        False  \n",
            "3                   False                  False                        False  \n",
            "4                   False                  False                        False  \n"
          ]
        }
      ]
    },
    {
      "cell_type": "code",
      "source": [
        "from sklearn.model_selection import train_test_split\n",
        "\n",
        "# Separando as features (variáveis independentes) e o target (variável dependente)\n",
        "X = df_preprocessado.drop('diabetes', axis=1)\n",
        "y = df_preprocessado['diabetes']\n",
        "\n",
        "# Dividindo os dados em conjunto de treinamento e teste (por exemplo, 80% treinamento, 20% teste)\n",
        "X_train, X_test, y_train, y_test = train_test_split(X, y, test_size=0.2, random_state=42)"
      ],
      "metadata": {
        "id": "juzoOabKc4YS"
      },
      "execution_count": 7,
      "outputs": []
    },
    {
      "cell_type": "code",
      "source": [
        "from sklearn.linear_model import LogisticRegression\n",
        "from sklearn.tree import DecisionTreeClassifier\n",
        "from sklearn.ensemble import RandomForestClassifier\n",
        "\n",
        "# Exemplo de treinamento de um modelo de regressão logística\n",
        "model = LogisticRegression()\n",
        "model.fit(X_train, y_train)"
      ],
      "metadata": {
        "colab": {
          "base_uri": "https://localhost:8080/",
          "height": 75
        },
        "id": "DF8aOfnkc_bi",
        "outputId": "3dc6f1ac-3e47-46c5-a1d9-216d51708094"
      },
      "execution_count": 8,
      "outputs": [
        {
          "output_type": "execute_result",
          "data": {
            "text/plain": [
              "LogisticRegression()"
            ],
            "text/html": [
              "<style>#sk-container-id-1 {color: black;background-color: white;}#sk-container-id-1 pre{padding: 0;}#sk-container-id-1 div.sk-toggleable {background-color: white;}#sk-container-id-1 label.sk-toggleable__label {cursor: pointer;display: block;width: 100%;margin-bottom: 0;padding: 0.3em;box-sizing: border-box;text-align: center;}#sk-container-id-1 label.sk-toggleable__label-arrow:before {content: \"▸\";float: left;margin-right: 0.25em;color: #696969;}#sk-container-id-1 label.sk-toggleable__label-arrow:hover:before {color: black;}#sk-container-id-1 div.sk-estimator:hover label.sk-toggleable__label-arrow:before {color: black;}#sk-container-id-1 div.sk-toggleable__content {max-height: 0;max-width: 0;overflow: hidden;text-align: left;background-color: #f0f8ff;}#sk-container-id-1 div.sk-toggleable__content pre {margin: 0.2em;color: black;border-radius: 0.25em;background-color: #f0f8ff;}#sk-container-id-1 input.sk-toggleable__control:checked~div.sk-toggleable__content {max-height: 200px;max-width: 100%;overflow: auto;}#sk-container-id-1 input.sk-toggleable__control:checked~label.sk-toggleable__label-arrow:before {content: \"▾\";}#sk-container-id-1 div.sk-estimator input.sk-toggleable__control:checked~label.sk-toggleable__label {background-color: #d4ebff;}#sk-container-id-1 div.sk-label input.sk-toggleable__control:checked~label.sk-toggleable__label {background-color: #d4ebff;}#sk-container-id-1 input.sk-hidden--visually {border: 0;clip: rect(1px 1px 1px 1px);clip: rect(1px, 1px, 1px, 1px);height: 1px;margin: -1px;overflow: hidden;padding: 0;position: absolute;width: 1px;}#sk-container-id-1 div.sk-estimator {font-family: monospace;background-color: #f0f8ff;border: 1px dotted black;border-radius: 0.25em;box-sizing: border-box;margin-bottom: 0.5em;}#sk-container-id-1 div.sk-estimator:hover {background-color: #d4ebff;}#sk-container-id-1 div.sk-parallel-item::after {content: \"\";width: 100%;border-bottom: 1px solid gray;flex-grow: 1;}#sk-container-id-1 div.sk-label:hover label.sk-toggleable__label {background-color: #d4ebff;}#sk-container-id-1 div.sk-serial::before {content: \"\";position: absolute;border-left: 1px solid gray;box-sizing: border-box;top: 0;bottom: 0;left: 50%;z-index: 0;}#sk-container-id-1 div.sk-serial {display: flex;flex-direction: column;align-items: center;background-color: white;padding-right: 0.2em;padding-left: 0.2em;position: relative;}#sk-container-id-1 div.sk-item {position: relative;z-index: 1;}#sk-container-id-1 div.sk-parallel {display: flex;align-items: stretch;justify-content: center;background-color: white;position: relative;}#sk-container-id-1 div.sk-item::before, #sk-container-id-1 div.sk-parallel-item::before {content: \"\";position: absolute;border-left: 1px solid gray;box-sizing: border-box;top: 0;bottom: 0;left: 50%;z-index: -1;}#sk-container-id-1 div.sk-parallel-item {display: flex;flex-direction: column;z-index: 1;position: relative;background-color: white;}#sk-container-id-1 div.sk-parallel-item:first-child::after {align-self: flex-end;width: 50%;}#sk-container-id-1 div.sk-parallel-item:last-child::after {align-self: flex-start;width: 50%;}#sk-container-id-1 div.sk-parallel-item:only-child::after {width: 0;}#sk-container-id-1 div.sk-dashed-wrapped {border: 1px dashed gray;margin: 0 0.4em 0.5em 0.4em;box-sizing: border-box;padding-bottom: 0.4em;background-color: white;}#sk-container-id-1 div.sk-label label {font-family: monospace;font-weight: bold;display: inline-block;line-height: 1.2em;}#sk-container-id-1 div.sk-label-container {text-align: center;}#sk-container-id-1 div.sk-container {/* jupyter's `normalize.less` sets `[hidden] { display: none; }` but bootstrap.min.css set `[hidden] { display: none !important; }` so we also need the `!important` here to be able to override the default hidden behavior on the sphinx rendered scikit-learn.org. See: https://github.com/scikit-learn/scikit-learn/issues/21755 */display: inline-block !important;position: relative;}#sk-container-id-1 div.sk-text-repr-fallback {display: none;}</style><div id=\"sk-container-id-1\" class=\"sk-top-container\"><div class=\"sk-text-repr-fallback\"><pre>LogisticRegression()</pre><b>In a Jupyter environment, please rerun this cell to show the HTML representation or trust the notebook. <br />On GitHub, the HTML representation is unable to render, please try loading this page with nbviewer.org.</b></div><div class=\"sk-container\" hidden><div class=\"sk-item\"><div class=\"sk-estimator sk-toggleable\"><input class=\"sk-toggleable__control sk-hidden--visually\" id=\"sk-estimator-id-1\" type=\"checkbox\" checked><label for=\"sk-estimator-id-1\" class=\"sk-toggleable__label sk-toggleable__label-arrow\">LogisticRegression</label><div class=\"sk-toggleable__content\"><pre>LogisticRegression()</pre></div></div></div></div></div>"
            ]
          },
          "metadata": {},
          "execution_count": 8
        }
      ]
    },
    {
      "cell_type": "code",
      "source": [
        "from sklearn.metrics import accuracy_score, classification_report\n",
        "\n",
        "# Exemplo de avaliação do modelo de regressão logística\n",
        "y_pred = model.predict(X_test)\n",
        "accuracy = accuracy_score(y_test, y_pred)\n",
        "print(\"Acurácia do modelo:\", accuracy)\n",
        "\n",
        "# Outras métricas de avaliação\n",
        "print(classification_report(y_test, y_pred))"
      ],
      "metadata": {
        "colab": {
          "base_uri": "https://localhost:8080/"
        },
        "id": "5lpsUbpAdJJ6",
        "outputId": "919c111c-27be-48c3-b0e8-4285880daee5"
      },
      "execution_count": 9,
      "outputs": [
        {
          "output_type": "stream",
          "name": "stdout",
          "text": [
            "Acurácia do modelo: 0.95905\n",
            "              precision    recall  f1-score   support\n",
            "\n",
            "           0       0.97      0.99      0.98     18292\n",
            "           1       0.86      0.62      0.72      1708\n",
            "\n",
            "    accuracy                           0.96     20000\n",
            "   macro avg       0.91      0.80      0.85     20000\n",
            "weighted avg       0.96      0.96      0.96     20000\n",
            "\n"
          ]
        }
      ]
    },
    {
      "cell_type": "code",
      "source": [
        "from sklearn.model_selection import cross_val_score\n",
        "\n",
        "# Exemplo de validação cruzada com 5 folds\n",
        "scores = cross_val_score(model, X, y, cv=5)\n",
        "print(\"Acurácia média da validação cruzada:\", scores.mean())"
      ],
      "metadata": {
        "colab": {
          "base_uri": "https://localhost:8080/"
        },
        "id": "hRxMokZfeJgS",
        "outputId": "6388939a-29c8-4fcb-ca38-f20dfbe736ad"
      },
      "execution_count": 12,
      "outputs": [
        {
          "output_type": "stream",
          "name": "stdout",
          "text": [
            "Acurácia média da validação cruzada: 0.9603200000000001\n"
          ]
        }
      ]
    },
    {
      "cell_type": "code",
      "source": [
        "from sklearn.model_selection import GridSearchCV\n",
        "\n",
        "# Exemplo de pesquisa em grade para ajustar hiperparâmetros\n",
        "param_grid = {'C': [0.1, 1, 10, 100]}\n",
        "grid_search = GridSearchCV(model, param_grid, cv=5)\n",
        "grid_search.fit(X_train, y_train)\n",
        "\n",
        "# Melhores hiperparâmetros encontrados\n",
        "print(\"Melhores hiperparâmetros:\", grid_search.best_params_)"
      ],
      "metadata": {
        "colab": {
          "base_uri": "https://localhost:8080/"
        },
        "id": "PZ21aRcpd4OS",
        "outputId": "ffde7d72-d0ce-48f5-9149-08e56b87a767"
      },
      "execution_count": 10,
      "outputs": [
        {
          "output_type": "stream",
          "name": "stdout",
          "text": [
            "Melhores hiperparâmetros: {'C': 0.1}\n"
          ]
        }
      ]
    },
    {
      "cell_type": "code",
      "source": [
        "from sklearn.model_selection import cross_val_score\n",
        "from sklearn.metrics import accuracy_score, precision_score, recall_score, f1_score\n",
        "from imblearn.over_sampling import RandomOverSampler\n",
        "from imblearn.under_sampling import RandomUnderSampler\n",
        "import numpy as np\n",
        "\n",
        "# Definição dos modelos\n",
        "modelos = {\n",
        "    'Regressão Logística': LogisticRegression(),\n",
        "    'Árvore de Decisão': DecisionTreeClassifier(),\n",
        "    # Adicione outros modelos conforme necessário\n",
        "}\n",
        "\n",
        "# Definição da técnica de balanceamento de classes\n",
        "balanceamento = 'oversampling'  # ou 'undersampling'\n",
        "\n",
        "# Listas para armazenar os resultados das métricas de desempenho\n",
        "acuracia_resultados = []\n",
        "precisao_resultados = []\n",
        "recall_resultados = []\n",
        "f1_resultados = []\n",
        "\n",
        "# Loop sobre os modelos\n",
        "for nome_modelo, modelo in modelos.items():\n",
        "    # Aplicação da técnica de balanceamento de classes\n",
        "    if balanceamento == 'oversampling':\n",
        "        sampler = RandomOverSampler()\n",
        "    elif balanceamento == 'undersampling':\n",
        "        sampler = RandomUnderSampler()\n",
        "    X_resampled, y_resampled = sampler.fit_resample(X_train, y_train)\n",
        "\n",
        "    # Treinamento do modelo\n",
        "    modelo.fit(X_resampled, y_resampled)\n",
        "\n",
        "    # Avaliação do modelo\n",
        "    y_pred = modelo.predict(X_test)\n",
        "    acuracia = accuracy_score(y_test, y_pred)\n",
        "    precisao = precision_score(y_test, y_pred)\n",
        "    recall = recall_score(y_test, y_pred)\n",
        "    f1 = f1_score(y_test, y_pred)\n",
        "\n",
        "    # Adicione os resultados às listas correspondentes\n",
        "    acuracia_resultados.append(acuracia)\n",
        "    precisao_resultados.append(precisao)\n",
        "    recall_resultados.append(recall)\n",
        "    f1_resultados.append(f1)\n",
        "\n",
        "    # Impressão dos resultados\n",
        "    print(f\"Modelo: {nome_modelo}\")\n",
        "    print(f\"Acurácia: {acuracia}\")\n",
        "    print(f\"Precisão: {precisao}\")\n",
        "    print(f\"Recall: {recall}\")\n",
        "    print(f\"F1-score: {f1}\")\n",
        "    print(\"----------------------------------------\")\n",
        "\n",
        "# Calcule a média e o desvio padrão do desempenho dos modelos\n",
        "media_acuracia = np.mean(acuracia_resultados)\n",
        "desvio_padrao_acuracia = np.std(acuracia_resultados)\n",
        "\n",
        "media_precisao = np.mean(precisao_resultados)\n",
        "desvio_padrao_precisao = np.std(precisao_resultados)\n",
        "\n",
        "media_recall = np.mean(recall_resultados)\n",
        "desvio_padrao_recall = np.std(recall_resultados)\n",
        "\n",
        "media_f1 = np.mean(f1_resultados)\n",
        "desvio_padrao_f1 = np.std(f1_resultados)\n",
        "\n",
        "# Exiba os resultados\n",
        "print(\"Média e Desvio Padrão do Desempenho dos Modelos:\")\n",
        "print(\"Acurácia:\")\n",
        "print(f\"Média: {media_acuracia}, Desvio Padrão: {desvio_padrao_acuracia}\")\n",
        "print(\"Precisão:\")\n",
        "print(f\"Média: {media_precisao}, Desvio Padrão: {desvio_padrao_precisao}\")\n",
        "print(\"Recall:\")\n",
        "print(f\"Média: {media_recall}, Desvio Padrão: {desvio_padrao_recall}\")\n",
        "print(\"F1-score:\")\n",
        "print(f\"Média: {media_f1}, Desvio Padrão: {desvio_padrao_f1}\")"
      ],
      "metadata": {
        "id": "DawwFoflh-l6",
        "outputId": "c5c1fa38-a13d-409b-a439-115e1077d01a",
        "colab": {
          "base_uri": "https://localhost:8080/"
        }
      },
      "execution_count": 22,
      "outputs": [
        {
          "output_type": "stream",
          "name": "stdout",
          "text": [
            "Modelo: Regressão Logística\n",
            "Acurácia: 0.8895\n",
            "Precisão: 0.4286120591581342\n",
            "Recall: 0.8823185011709602\n",
            "F1-score: 0.5769525267993875\n",
            "----------------------------------------\n",
            "Modelo: Árvore de Decisão\n",
            "Acurácia: 0.9558\n",
            "Precisão: 0.7420681551116334\n",
            "Recall: 0.7394613583138173\n",
            "F1-score: 0.7407624633431086\n",
            "----------------------------------------\n",
            "Média e Desvio Padrão do Desempenho dos Modelos:\n",
            "Acurácia:\n",
            "Média: 0.92265, Desvio Padrão: 0.03315000000000001\n",
            "Precisão:\n",
            "Média: 0.5853401071348838, Desvio Padrão: 0.15672804797674958\n",
            "Recall:\n",
            "Média: 0.8108899297423888, Desvio Padrão: 0.07142857142857145\n",
            "F1-score:\n",
            "Média: 0.658857495071248, Desvio Padrão: 0.08190496827186056\n"
          ]
        }
      ]
    }
  ]
}