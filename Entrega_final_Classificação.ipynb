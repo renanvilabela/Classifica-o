{
  "nbformat": 4,
  "nbformat_minor": 0,
  "metadata": {
    "colab": {
      "provenance": [],
      "authorship_tag": "ABX9TyMHgJgoDk1NZfAW2dE3MQqK",
      "include_colab_link": true
    },
    "kernelspec": {
      "name": "python3",
      "display_name": "Python 3"
    },
    "language_info": {
      "name": "python"
    }
  },
  "cells": [
    {
      "cell_type": "markdown",
      "metadata": {
        "id": "view-in-github",
        "colab_type": "text"
      },
      "source": [
        "<a href=\"https://colab.research.google.com/github/renanvilabela/Classifica-o/blob/main/Entrega_final_Classifica%C3%A7%C3%A3o.ipynb\" target=\"_parent\"><img src=\"https://colab.research.google.com/assets/colab-badge.svg\" alt=\"Open In Colab\"/></a>"
      ]
    },
    {
      "cell_type": "code",
      "execution_count": 4,
      "metadata": {
        "id": "1TOsPQOL86qN",
        "colab": {
          "base_uri": "https://localhost:8080/"
        },
        "outputId": "66a553d2-b09f-42af-d212-642f4a028e0f"
      },
      "outputs": [
        {
          "output_type": "stream",
          "name": "stdout",
          "text": [
            "   gender   age  hypertension  heart_disease smoking_history    bmi  \\\n",
            "0  Female  80.0             0              1           never  25.19   \n",
            "1  Female  54.0             0              0         No Info  27.32   \n",
            "2    Male  28.0             0              0           never  27.32   \n",
            "3  Female  36.0             0              0         current  23.45   \n",
            "4    Male  76.0             1              1         current  20.14   \n",
            "\n",
            "   HbA1c_level  blood_glucose_level  diabetes  \n",
            "0          6.6                  140         0  \n",
            "1          6.6                   80         0  \n",
            "2          5.7                  158         0  \n",
            "3          5.0                  155         0  \n",
            "4          4.8                  155         0  \n"
          ]
        }
      ],
      "source": [
        "import pandas as pd\n",
        "\n",
        "df = pd.read_csv(\"diabetes_prediction_dataset.csv\")\n",
        "\n",
        "print(df.head())"
      ]
    },
    {
      "cell_type": "code",
      "source": [
        "#verificando o número de linhas e colunas\n",
        "print(\"Número de linhas e colunas:\", df.shape)\n",
        "print()\n",
        "\n",
        "#verificando os tipos de dados de cada coluna\n",
        "print(\"Tipos de dados das colunas:\")\n",
        "print(df.dtypes)\n",
        "print()\n",
        "\n",
        "#obtendo estatísicas descritivas para cada coluna numérica\n",
        "print(\"Estatísticas descritivas para colunas numéricas:\")\n",
        "print(df.describe())\n",
        "print()\n",
        "\n",
        "#verificando se há valores nulos\n",
        "print(\"Valores nulos por coluna:\")\n",
        "print(df.isnull().sum())"
      ],
      "metadata": {
        "colab": {
          "base_uri": "https://localhost:8080/"
        },
        "id": "X6TfS13oZlve",
        "outputId": "b511b84d-0efb-4509-f5f2-0bba4bbbeaf0"
      },
      "execution_count": 8,
      "outputs": [
        {
          "output_type": "stream",
          "name": "stdout",
          "text": [
            "Número de linhas e colunas: (100000, 9)\n",
            "\n",
            "Tipos de dados das colunas:\n",
            "gender                  object\n",
            "age                    float64\n",
            "hypertension             int64\n",
            "heart_disease            int64\n",
            "smoking_history         object\n",
            "bmi                    float64\n",
            "HbA1c_level            float64\n",
            "blood_glucose_level      int64\n",
            "diabetes                 int64\n",
            "dtype: object\n",
            "\n",
            "Estatísticas descritivas para colunas numéricas:\n",
            "                 age  hypertension  heart_disease            bmi  \\\n",
            "count  100000.000000  100000.00000  100000.000000  100000.000000   \n",
            "mean       41.885856       0.07485       0.039420      27.320767   \n",
            "std        22.516840       0.26315       0.194593       6.636783   \n",
            "min         0.080000       0.00000       0.000000      10.010000   \n",
            "25%        24.000000       0.00000       0.000000      23.630000   \n",
            "50%        43.000000       0.00000       0.000000      27.320000   \n",
            "75%        60.000000       0.00000       0.000000      29.580000   \n",
            "max        80.000000       1.00000       1.000000      95.690000   \n",
            "\n",
            "         HbA1c_level  blood_glucose_level       diabetes  \n",
            "count  100000.000000        100000.000000  100000.000000  \n",
            "mean        5.527507           138.058060       0.085000  \n",
            "std         1.070672            40.708136       0.278883  \n",
            "min         3.500000            80.000000       0.000000  \n",
            "25%         4.800000           100.000000       0.000000  \n",
            "50%         5.800000           140.000000       0.000000  \n",
            "75%         6.200000           159.000000       0.000000  \n",
            "max         9.000000           300.000000       1.000000  \n",
            "\n",
            "Valores nulos por coluna:\n",
            "gender                 0\n",
            "age                    0\n",
            "hypertension           0\n",
            "heart_disease          0\n",
            "smoking_history        0\n",
            "bmi                    0\n",
            "HbA1c_level            0\n",
            "blood_glucose_level    0\n",
            "diabetes               0\n",
            "dtype: int64\n"
          ]
        }
      ]
    },
    {
      "cell_type": "code",
      "source": [
        "#importando biblioteca necessária\n",
        "from sklearn.preprocessing import OneHotEncoder\n",
        "\n",
        "#criando uma cópia do DataFrame\n",
        "df_preprocessado = df.copy()\n",
        "\n",
        "#convertendo variáveis categóricas em variáveis dummy usando one-hot encoding\n",
        "df_preprocessado = pd.get_dummies(df_preprocessado, columns=['gender','smoking_history'])\n",
        "\n",
        "#exibindo as primeiras linhas do DataFrame após a conversão\n",
        "print(df_preprocessado.head())"
      ],
      "metadata": {
        "colab": {
          "base_uri": "https://localhost:8080/"
        },
        "id": "w_8djwa5aA-v",
        "outputId": "485150da-918d-4dbf-9e49-eaa34b3fb57b"
      },
      "execution_count": 11,
      "outputs": [
        {
          "output_type": "stream",
          "name": "stdout",
          "text": [
            "    age  hypertension  heart_disease    bmi  HbA1c_level  blood_glucose_level  \\\n",
            "0  80.0             0              1  25.19          6.6                  140   \n",
            "1  54.0             0              0  27.32          6.6                   80   \n",
            "2  28.0             0              0  27.32          5.7                  158   \n",
            "3  36.0             0              0  23.45          5.0                  155   \n",
            "4  76.0             1              1  20.14          4.8                  155   \n",
            "\n",
            "   diabetes  gender_Female  gender_Male  gender_Other  \\\n",
            "0         0           True        False         False   \n",
            "1         0           True        False         False   \n",
            "2         0          False         True         False   \n",
            "3         0           True        False         False   \n",
            "4         0          False         True         False   \n",
            "\n",
            "   smoking_history_No Info  smoking_history_current  smoking_history_ever  \\\n",
            "0                    False                    False                 False   \n",
            "1                     True                    False                 False   \n",
            "2                    False                    False                 False   \n",
            "3                    False                     True                 False   \n",
            "4                    False                     True                 False   \n",
            "\n",
            "   smoking_history_former  smoking_history_never  smoking_history_not current  \n",
            "0                   False                   True                        False  \n",
            "1                   False                  False                        False  \n",
            "2                   False                   True                        False  \n",
            "3                   False                  False                        False  \n",
            "4                   False                  False                        False  \n"
          ]
        }
      ]
    },
    {
      "cell_type": "code",
      "source": [
        "# Preenchendo valores ausentes com a média para variáveis numéricas\n",
        "df_preprocessado['age'].fillna(df_preprocessado['age'].mean(), inplace=True)\n",
        "df_preprocessado['bmi'].fillna(df_preprocessado['bmi'].mean(), inplace=True)\n",
        "df_preprocessado['HbA1c_level'].fillna(df_preprocessado['HbA1c_level'].mean(), inplace=True)\n",
        "\n",
        "# Exibindo se ainda há valores ausentes\n",
        "print(\"Valores nulos por coluna após o pré-processamento:\")\n",
        "print(df_preprocessado.isnull().sum())"
      ],
      "metadata": {
        "colab": {
          "base_uri": "https://localhost:8080/"
        },
        "id": "UNOHMSBwb-Rv",
        "outputId": "9d204d7b-9dce-4a27-886b-ce2ae815910f"
      },
      "execution_count": 12,
      "outputs": [
        {
          "output_type": "stream",
          "name": "stdout",
          "text": [
            "Valores nulos por coluna após o pré-processamento:\n",
            "age                            0\n",
            "hypertension                   0\n",
            "heart_disease                  0\n",
            "bmi                            0\n",
            "HbA1c_level                    0\n",
            "blood_glucose_level            0\n",
            "diabetes                       0\n",
            "gender_Female                  0\n",
            "gender_Male                    0\n",
            "gender_Other                   0\n",
            "smoking_history_No Info        0\n",
            "smoking_history_current        0\n",
            "smoking_history_ever           0\n",
            "smoking_history_former         0\n",
            "smoking_history_never          0\n",
            "smoking_history_not current    0\n",
            "dtype: int64\n"
          ]
        }
      ]
    },
    {
      "cell_type": "code",
      "source": [
        "# Importando biblioteca necessária\n",
        "from sklearn.preprocessing import StandardScaler\n",
        "\n",
        "# Padronizando as variáveis numéricas\n",
        "scaler = StandardScaler()\n",
        "df_preprocessado[['age', 'bmi', 'HbA1c_level', 'blood_glucose_level']] = scaler.fit_transform(df_preprocessado[['age', 'bmi', 'HbA1c_level', 'blood_glucose_level']])\n",
        "\n",
        "# Exibindo as primeiras linhas do DataFrame após a padronização\n",
        "print(df_preprocessado.head())"
      ],
      "metadata": {
        "colab": {
          "base_uri": "https://localhost:8080/"
        },
        "id": "ZBNWZNdecyyX",
        "outputId": "fb14fc25-4d7d-4865-ef1a-78d9575c68ca"
      },
      "execution_count": 13,
      "outputs": [
        {
          "output_type": "stream",
          "name": "stdout",
          "text": [
            "        age  hypertension  heart_disease       bmi  HbA1c_level  \\\n",
            "0  1.692704             0              1 -0.321056     1.001706   \n",
            "1  0.538006             0              0 -0.000116     1.001706   \n",
            "2 -0.616691             0              0 -0.000116     0.161108   \n",
            "3 -0.261399             0              0 -0.583232    -0.492690   \n",
            "4  1.515058             1              1 -1.081970    -0.679490   \n",
            "\n",
            "   blood_glucose_level  diabetes  gender_Female  gender_Male  gender_Other  \\\n",
            "0             0.047704         0           True        False         False   \n",
            "1            -1.426210         0           True        False         False   \n",
            "2             0.489878         0          False         True         False   \n",
            "3             0.416183         0           True        False         False   \n",
            "4             0.416183         0          False         True         False   \n",
            "\n",
            "   smoking_history_No Info  smoking_history_current  smoking_history_ever  \\\n",
            "0                    False                    False                 False   \n",
            "1                     True                    False                 False   \n",
            "2                    False                    False                 False   \n",
            "3                    False                     True                 False   \n",
            "4                    False                     True                 False   \n",
            "\n",
            "   smoking_history_former  smoking_history_never  smoking_history_not current  \n",
            "0                   False                   True                        False  \n",
            "1                   False                  False                        False  \n",
            "2                   False                   True                        False  \n",
            "3                   False                  False                        False  \n",
            "4                   False                  False                        False  \n"
          ]
        }
      ]
    }
  ]
}